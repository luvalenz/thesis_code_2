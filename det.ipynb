{
 "cells": [
  {
   "cell_type": "code",
   "execution_count": 6,
   "metadata": {
    "collapsed": false
   },
   "outputs": [],
   "source": [
    "import numpy as np\n",
    "\n",
    "\n",
    "#rule [axis, value, side]\n",
    "# side = False: <=, side = True: >\n",
    "class DetNode:\n",
    "\n",
    "    @property\n",
    "    def is_leaf(self):\n",
    "        return self.density is not None\n",
    "    \n",
    "    @property\n",
    "    def children(self):\n",
    "        return self.left_child, self.right_child\n",
    "\n",
    "    def __init__(self):\n",
    "        self.density = None\n",
    "        self.rules = np.empty((0,3))\n",
    "        self.next_rule = 0\n",
    "        self.neighbors_by_rules = []\n",
    "        self.neighbors_by_id = {}\n",
    "        self.left_child = None\n",
    "        self.right_child = None\n",
    "        self.id = ''\n",
    "\n",
    "    def add_density(self, density):\n",
    "        self.density = density\n",
    "\n",
    "    def copy(self):\n",
    "        new = DetNode()\n",
    "        new.density = self.density\n",
    "        new.rules = self.rules\n",
    "        new.neighbors_by_id = self.neighbors_by_id\n",
    "        new.neighbors_by_rules = self.neighbors_by_rules\n",
    "        new.id = self.id\n",
    "        return new\n",
    "\n",
    "    def add_rule(self, new_rule, new_neighbor):\n",
    "        new_rule_axis = new_rule[0]\n",
    "        new_rule_side = new_rule[2]\n",
    "        conflicting_rules_indices = np.where(np.logical_and(self.rules[:,0] == new_rule_axis, self.rules[:,2] == new_rule_side))[0]\n",
    "        non_conflicting_rules_indices = list(set(range(len(self.rules))) - set(conflicting_rules_indices))\n",
    "\n",
    "        updated_rules = np.empty((0,3))\n",
    "        updated_neighbors_by_rules = []\n",
    "        updated_neighbors_by_id = {}\n",
    "        counter = 0\n",
    "        for index in non_conflicting_rules_indices:\n",
    "            updated_rules = np.vstack((updated_rules, self.rules[index]))\n",
    "            neighbors = self.neighbors_by_rules[index]\n",
    "            updated_neighbors_by_rules.append(neighbors)\n",
    "            for neighbor in neighbors:\n",
    "                updated_neighbors_by_id[neighbor.id] = (neighbor, counter)\n",
    "            counter += 1\n",
    "        self.rules = updated_rules\n",
    "        self.neighbors_by_rules = updated_neighbors_by_rules\n",
    "        self.neighbors_by_id = updated_neighbors_by_id\n",
    "        conflict2_rules_indices = np.where(np.logical_and(self.rules[:,0] == new_rule_axis, self.rules[:,2] != new_rule_side))[0]\n",
    "        for i in conflict2_rules_indices:\n",
    "            for neighbor in self.neighbors_by_rules[i]:\n",
    "                neighbor.fix_conflict(self)\n",
    "        conflict3_rules_indices = np.where(self.rules[:,0] != new_rule_axis)[0]\n",
    "        for i in conflict3_rules_indices:\n",
    "            for neighbor in self.neighbors_by_rules[i]:\n",
    "                neighbor.fix_conflict(self)\n",
    "        self.neighbors_by_id[new_neighbor.id] = (new_neighbor, len(self.rules))\n",
    "        self.neighbors_by_rules.append([new_neighbor])\n",
    "        self.rules = np.vstack((self.rules, new_rule))\n",
    "\n",
    "    def fix_conflict(self, new_neighbor):\n",
    "        new_id = new_neighbor.id\n",
    "        old_id = new_neighbor.id[:-1]\n",
    "        if old_id in self.neighbors_by_id:\n",
    "            old_neighbor, old_neighbor_rule_index = self.neighbors_by_id[old_id]\n",
    "            del(self.neighbors_by_id[old_id])\n",
    "            self.neighbors_by_rules[old_neighbor_rule_index].remove(old_neighbor)\n",
    "        elif old_id + '0' in self.neighbors_by_id:\n",
    "            other_neighbor, old_neighbor_rule_index = self.neighbors_by_id[old_id + '0']\n",
    "        elif old_id + '1' in self.neighbors_by_id:\n",
    "            other_neighbor, old_neighbor_rule_index = self.neighbors_by_id[old_id + '1']\n",
    "        self.neighbors_by_id[new_id] = (new_neighbor, old_neighbor_rule_index)\n",
    "        self.neighbors_by_rules[old_neighbor_rule_index].append(new_neighbor)\n",
    "\n",
    "\n",
    "    def split(self, axis, value):\n",
    "        left_child = self.copy()\n",
    "        right_child = self.copy()\n",
    "        left_rule = [axis, value, False]\n",
    "        right_rule = [axis, value, True]\n",
    "        left_child.id += '0'\n",
    "        right_child.id += '1'\n",
    "        left_child.add_rule(left_rule, right_child)\n",
    "        right_child.add_rule(right_rule, left_child)\n",
    "        self.left_child = left_child\n",
    "        self.right_child = right_child\n",
    "        return left_child, right_child"
   ]
  },
  {
   "cell_type": "code",
   "execution_count": 7,
   "metadata": {
    "collapsed": false
   },
   "outputs": [],
   "source": [
    "root = DetNode()\n",
    "n1, n2 = root.split(0,0.5)\n",
    "n5, n6 = n1.split(0,0.25)\n",
    "n4, n3 = n5.split(1,0.5)"
   ]
  },
  {
   "cell_type": "code",
   "execution_count": 8,
   "metadata": {
    "collapsed": false
   },
   "outputs": [
    {
     "name": "stdout",
     "output_type": "stream",
     "text": [
      "0\n",
      "1\n",
      "001\n",
      "000\n",
      "00\n",
      "01\n"
     ]
    }
   ],
   "source": [
    "print n1.id\n",
    "print n2.id\n",
    "print n3.id\n",
    "print n4.id\n",
    "print n5.id\n",
    "print n6.id"
   ]
  },
  {
   "cell_type": "code",
   "execution_count": 30,
   "metadata": {
    "collapsed": false
   },
   "outputs": [],
   "source": [
    "\n",
    "\n",
    "def create_tree(data):\n",
    "    root = DetNode()\n",
    "    split_node(data, root, None)\n",
    "    return root\n",
    "\n",
    "\n",
    "def split_node(data, node, line_data):\n",
    "    if line_data is not None and 'density' in line_data:\n",
    "        node.density = line_data['density']\n",
    "    if len(data) > 1:\n",
    "        right_child = data[0]\n",
    "        counter = 0\n",
    "        for datum in data[1:]:\n",
    "            axis = right_child['axis']\n",
    "            counter += 1\n",
    "            if datum['axis'] == axis and datum['value'] == right_child['value']:\n",
    "                left_child = datum\n",
    "                break\n",
    "\n",
    "        right_data = data[1:counter]\n",
    "        left_data = data[(counter+1):]\n",
    "        left_node, right_node = node.split(axis, value)\n",
    "        split_node(left_data, left_node, left_child)\n",
    "        split_node(right_data, right_node, right_child)\n",
    "\n",
    "\n",
    "file = open('sub_tree.txt', 'r')\n",
    "lines =  [line.strip(' \\t\\n\\r|') for line in file.readlines()]\n",
    "data = []\n",
    "for line in lines:\n",
    "    line_data = line.split(' ')\n",
    "    axis = int(line_data[1])\n",
    "    side = line_data[2] == '>'\n",
    "    value = float(line_data[3].replace(':', ''))\n",
    "    line_data_hash = {'axis': axis, 'side': side, 'value': value}\n",
    "    density = None\n",
    "    if len(line_data) > 4:\n",
    "        density = float(line_data[4][5:])\n",
    "        line_data_hash['density'] = density\n",
    "    data.append(line_data_hash)\n",
    "root = create_tree(data)"
   ]
  },
  {
   "cell_type": "code",
   "execution_count": 33,
   "metadata": {
    "collapsed": false
   },
   "outputs": [
    {
     "name": "stdout",
     "output_type": "stream",
     "text": [
      "[[    0.    7461.65     0.  ]]\n",
      "[[  0.00000000e+00   7.46165000e+03   1.00000000e+00]]\n",
      "[[  0.00000000e+00   7.46165000e+03   0.00000000e+00]\n",
      " [  1.00000000e+00   7.46165000e+03   0.00000000e+00]]\n",
      "[[  0.00000000e+00   7.46165000e+03   0.00000000e+00]\n",
      " [  1.00000000e+00   7.46165000e+03   1.00000000e+00]]\n",
      "[[  0.00000000e+00   7.46165000e+03   0.00000000e+00]\n",
      " [  1.00000000e+00   7.46165000e+03   1.00000000e+00]\n",
      " [  2.00000000e+00   7.46165000e+03   0.00000000e+00]]\n",
      "[[  0.00000000e+00   7.46165000e+03   0.00000000e+00]\n",
      " [  1.00000000e+00   7.46165000e+03   1.00000000e+00]\n",
      " [  2.00000000e+00   7.46165000e+03   1.00000000e+00]]\n"
     ]
    }
   ],
   "source": [
    "n1, n2 = root.children\n",
    "n3, n4 = n1.children\n",
    "n5, n6 = n4.children\n",
    "print n1.rules\n",
    "print n2.rules\n",
    "print n3.rules\n",
    "print n4.rules\n",
    "print n5.rules\n",
    "print n6.rules"
   ]
  },
  {
   "cell_type": "code",
   "execution_count": 25,
   "metadata": {
    "collapsed": false
   },
   "outputs": [
    {
     "name": "stdout",
     "output_type": "stream",
     "text": [
      "<__main__.DetNode instance at 0x7fe7ec6e0638>\n"
     ]
    }
   ],
   "source": [
    "root = DetNode()\n",
    "root.split(0,0.1)\n",
    "n1, n2 = root.children\n",
    "print n1"
   ]
  },
  {
   "cell_type": "code",
   "execution_count": 78,
   "metadata": {
    "collapsed": false
   },
   "outputs": [
    {
     "data": {
      "text/plain": [
       "True"
      ]
     },
     "execution_count": 78,
     "metadata": {},
     "output_type": "execute_result"
    }
   ],
   "source": [
    "'a' in d"
   ]
  },
  {
   "cell_type": "code",
   "execution_count": 35,
   "metadata": {
    "collapsed": false
   },
   "outputs": [],
   "source": [
    "import numpy as np\n",
    "from sklearn.decomposition import PCA\n",
    "original = np.array([[-1, -1], [-2, -1], [-3, -2], [1, 1], [2, 1], [3, 2]])\n",
    "pca = PCA(n_components=2)\n",
    "transformed = pca.fit_transform(X)"
   ]
  },
  {
   "cell_type": "code",
   "execution_count": 49,
   "metadata": {
    "collapsed": false
   },
   "outputs": [
    {
     "name": "stdout",
     "output_type": "stream",
     "text": [
      "[ True False False False False False False False False False False False\n",
      "  True False False]\n"
     ]
    }
   ],
   "source": [
    "import scipy.spatial.distance as distance\n",
    "original_dist = distance.pdist(original, 'cityblock')\n",
    "transformed_dist = distance.pdist(transformed, 'cityblock')\n",
    "print original_dist - transformed_dist < 1e-15"
   ]
  },
  {
   "cell_type": "code",
   "execution_count": 43,
   "metadata": {
    "collapsed": false
   },
   "outputs": [
    {
     "name": "stdout",
     "output_type": "stream",
     "text": [
      "[ 1.          2.23606798  2.82842712  3.60555128  5.          1.41421356\n",
      "  3.60555128  4.47213595  5.83095189  5.          5.83095189  7.21110255\n",
      "  1.          2.23606798  1.41421356]\n"
     ]
    }
   ],
   "source": [
    "print original_dist"
   ]
  },
  {
   "cell_type": "code",
   "execution_count": 44,
   "metadata": {
    "collapsed": false
   },
   "outputs": [
    {
     "name": "stdout",
     "output_type": "stream",
     "text": [
      "[ 1.          2.23606798  2.82842712  3.60555128  5.          1.41421356\n",
      "  3.60555128  4.47213595  5.83095189  5.          5.83095189  7.21110255\n",
      "  1.          2.23606798  1.41421356]\n"
     ]
    }
   ],
   "source": [
    "print transformed_dist"
   ]
  },
  {
   "cell_type": "code",
   "execution_count": null,
   "metadata": {
    "collapsed": true
   },
   "outputs": [],
   "source": []
  }
 ],
 "metadata": {
  "kernelspec": {
   "display_name": "Python 2",
   "language": "python",
   "name": "python2"
  },
  "language_info": {
   "codemirror_mode": {
    "name": "ipython",
    "version": 2
   },
   "file_extension": ".py",
   "mimetype": "text/x-python",
   "name": "python",
   "nbconvert_exporter": "python",
   "pygments_lexer": "ipython2",
   "version": "2.7.10"
  }
 },
 "nbformat": 4,
 "nbformat_minor": 0
}
