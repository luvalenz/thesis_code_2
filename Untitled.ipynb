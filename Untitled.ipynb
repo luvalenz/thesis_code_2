{
 "cells": [
  {
   "cell_type": "code",
   "execution_count": 1,
   "metadata": {},
   "outputs": [
    {
     "name": "stdout",
     "output_type": "stream",
     "text": [
      "[ 0.02320432  0.89593049  0.32763598]\n",
      "[[ 0.87951276  0.40901507  0.57393959]\n",
      " [ 0.53992474  0.39936523  0.70045608]\n",
      " [ 0.42013441  0.04786411  0.12108031]]\n",
      "[[-0.07173922  1.17897169  0.84439428]\n",
      " [-1.03729184  0.29886148 -0.62806316]\n",
      " [-0.40877937  1.19010619  0.90025111]\n",
      " [-0.64539238 -0.13697398 -1.44997361]\n",
      " [ 0.32916836  0.76631871  0.06301977]\n",
      " [ 0.53726462  1.57379694  1.48620743]\n",
      " [-0.42993036  0.34505391 -0.6101205 ]\n",
      " [ 0.9159384   1.34253803  1.03189456]\n",
      " [-1.25123599  0.05055531 -1.04972102]\n",
      " [ 0.27224818  0.48574391 -0.433136  ]]\n"
     ]
    },
    {
     "name": "stderr",
     "output_type": "stream",
     "text": [
      "/home/lucas/anaconda/lib/python2.7/site-packages/IPython/kernel/__main__.py:19: RuntimeWarning: covariance is not positive-semidefinite.\n"
     ]
    },
    {
     "data": {
      "text/plain": [
       "array([[ 1.36881126,  0.73562877,  0.4373593 ],\n",
       "       [-0.37656347,  0.678196  ,  0.94602531],\n",
       "       [-0.99224779, -1.41382477, -1.3833846 ]])"
      ]
     },
     "execution_count": 1,
     "output_type": "execute_result",
     "metadata": {}
    }
   ],
   "source": [
    ""
   ]
  },
  {
   "cell_type": "code",
   "execution_count": null,
   "metadata": {},
   "outputs": [],
   "source": [
    ""
   ]
  }
 ],
 "metadata": {
  "kernelspec": {
   "display_name": "Python 2",
   "language": "python",
   "name": "python2"
  },
  "language_info": {
   "codemirror_mode": {
    "name": "ipython",
    "version": 2.0
   },
   "file_extension": ".py",
   "mimetype": "text/x-python",
   "name": "python",
   "nbconvert_exporter": "python",
   "pygments_lexer": "ipython2",
   "version": "2.7.10"
  }
 },
 "nbformat": 4,
 "nbformat_minor": 0
}