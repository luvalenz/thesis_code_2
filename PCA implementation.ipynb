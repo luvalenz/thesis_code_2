{
 "cells": [
  {
   "cell_type": "code",
   "execution_count": 7,
   "metadata": {},
   "outputs": [],
   "source": [
    "import numpy as np\n",
    "import matplotlib.pyplot as plt\n",
    "from sklearn.preprocessing import normalize, scale, MinMaxScaler, StandardScaler\n",
    "from sklearn.decomposition import PCA"
   ]
  },
  {
   "cell_type": "code",
   "execution_count": 2,
   "metadata": {},
   "outputs": [],
   "source": [
    "class PCA_lucas: \n",
    "    def __init__(self, n_components = None):\n",
    "        self.n_components = n_components\n",
    "        self.W = None\n",
    "\n",
    "    def standarize(self, data):\n",
    "        return np.nan_to_num((data - self.mean)/self.std)\n",
    "\n",
    "    def fit(self, X):\n",
    "        self.mean = np.mean(X, axis=0)\n",
    "        self.std = np.std(X, axis=0)\n",
    "        standarized_X = self.standarize(X)\n",
    "        #Get projection matrix\n",
    "        print(standarized_X)\n",
    "        cov_x   = np.cov(standarized_X.T)\n",
    "        print(cov_x)\n",
    "        eigenvalues, eigenvectors = np.linalg.eig(cov_x)\n",
    "        eigenvalues_order = np.argsort(eigenvalues)[::-1]\n",
    "        sorted_eigenvalues = eigenvalues[eigenvalues_order]\n",
    "        print sorted_eigenvalues.shape\n",
    "        sorted_eigenvectors = eigenvectors[:,eigenvalues_order]\n",
    "        self.W = sorted_eigenvectors\n",
    "        if self.n_components is not None:\n",
    "            self.W = self.W[:,:self.n_components]\n",
    "        return standarized_X\n",
    "        \n",
    "    \n",
    "    def transform(self, X):\n",
    "        standarized_X = self.standarize(X)\n",
    "        return np.dot(standarized_X, self.W)\n",
    "    \n",
    "    def fit_transform(self, X):\n",
    "        return self.transform(standarized_X)"
   ]
  },
  {
   "cell_type": "markdown",
   "metadata": {},
   "source": [
    "random data generation"
   ]
  },
  {
   "cell_type": "code",
   "execution_count": 12,
   "metadata": {},
   "outputs": [
    {
     "name": "stdout",
     "output_type": "stream",
     "text": [
      "[[ 0.  -0.2]\n",
      " [ 1.   1.2]\n",
      " [ 2.   1.8]\n",
      " [ 3.   3.2]\n",
      " [ 4.   3.8]\n",
      " [ 5.   5.2]\n",
      " [ 6.   5.8]\n",
      " [ 7.   7.2]\n",
      " [ 8.   7.8]\n",
      " [ 9.   9.2]]\n",
      "[[-1.56669891 -1.6130358 ]\n",
      " [-1.21854365 -1.13255703]\n",
      " [-0.87038827 -0.92663765]\n",
      " [-0.52223295 -0.44615883]\n",
      " [-0.17407766 -0.2402394 ]\n",
      " [ 0.17407766  0.24023932]\n",
      " [ 0.52223295  0.44615892]\n",
      " [ 0.87038827  0.92663753]\n",
      " [ 1.21854365  1.13255715]\n",
      " [ 1.56669891  1.6130358 ]]\n",
      "[[ 1.11111114  1.10857007]\n",
      " [ 1.10857007  1.1111111 ]]\n",
      "(2,)\n",
      "[[ -0.14142136  -0.14142136]\n",
      " [  1.55563492   0.14142137]\n",
      " [  2.68700577  -0.14142134]\n",
      " [  4.38406204   0.14142139]\n",
      " [  5.51543289  -0.14142132]\n",
      " [  7.21248917   0.14142141]\n",
      " [  8.34386002  -0.1414213 ]\n",
      " [ 10.04091629   0.14142143]\n",
      " [ 11.17228714  -0.14142127]\n",
      " [ 12.86934342   0.14142146]]\n"
     ]
    }
   ],
   "source": [
    "n = 10\n",
    "a = np.arange(n)\n",
    "b = []\n",
    "for i in range(n):\n",
    "    unit = 1\n",
    "    if i % 2 == 0:\n",
    "        unit *= -1\n",
    "    b.append(unit)\n",
    "    \n",
    "b = np.array(b).astype(np.float32)/5.0        \n",
    "X = np.column_stack((a,a+b))\n",
    "\n",
    "print(X)\n",
    "pca_lucas = PCA_lucas(2)\n",
    "X_pca_lucas = pca_lucas.fit_transform(X[:,:])\n",
    "print(X_pca_lucas)"
   ]
  },
  {
   "cell_type": "code",
   "execution_count": 13,
   "metadata": {},
   "outputs": [
    {
     "name": "stdout",
     "output_type": "stream",
     "text": [
      "[[ 0.  -0.2]\n",
      " [ 1.   1.2]\n",
      " [ 2.   1.8]\n",
      " [ 3.   3.2]\n",
      " [ 4.   3.8]\n",
      " [ 5.   5.2]\n",
      " [ 6.   5.8]\n",
      " [ 7.   7.2]\n",
      " [ 8.   7.8]\n",
      " [ 9.   9.2]]\n"
     ]
    }
   ],
   "source": [
    "print(X)\n",
    "plt.plot(X[:,0], X[:,1], '.')\n",
    "plt.show()"
   ]
  },
  {
   "cell_type": "code",
   "execution_count": 24,
   "metadata": {},
   "outputs": [],
   "source": [
    "plt.plot(X_pca_lucas[:,0], X_pca_lucas[:,1], '.')\n",
    "plt.show()"
   ]
  },
  {
   "cell_type": "code",
   "execution_count": 15,
   "metadata": {},
   "outputs": [],
   "source": [
    "pca = PCA()\n",
    "X_normalized = MinMaxScaler().fit_transform(X)\n",
    "X_standarized = StandardScaler().fit_transform(X.astype(np.float32))\n",
    "X_unnormalized_pca =  pca.fit_transform(X)\n",
    "X_normalized_pca =  pca.fit_transform(X_normalized)\n",
    "X_standarized_pca = pca.fit_transform(X_standarized)"
   ]
  },
  {
   "cell_type": "code",
   "execution_count": 21,
   "metadata": {},
   "outputs": [],
   "source": [
    "plt.plot(X_normalized_pca[:,0], X_normalized_pca[:,1], '.')\n",
    "plt.show()"
   ]
  },
  {
   "cell_type": "code",
   "execution_count": 22,
   "metadata": {},
   "outputs": [],
   "source": [
    "plt.plot(X_unnormalized_pca[:,0], X_unnormalized_pca[:,1], '.')\n",
    "plt.show()"
   ]
  },
  {
   "cell_type": "code",
   "execution_count": 23,
   "metadata": {},
   "outputs": [],
   "source": [
    "plt.plot(X_standarized_pca[:,0], X_standarized_pca[:,1], '.')\n",
    "plt.show()"
   ]
  },
  {
   "cell_type": "code",
   "execution_count": null,
   "metadata": {},
   "outputs": [],
   "source": [
    ""
   ]
  }
 ],
 "metadata": {
  "kernelspec": {
   "display_name": "Python 2",
   "language": "python",
   "name": "python2"
  },
  "language_info": {
   "codemirror_mode": {
    "name": "ipython",
    "version": 2.0
   },
   "file_extension": ".py",
   "mimetype": "text/x-python",
   "name": "python",
   "nbconvert_exporter": "python",
   "pygments_lexer": "ipython2",
   "version": "2.7.10"
  }
 },
 "nbformat": 4,
 "nbformat_minor": 0
}