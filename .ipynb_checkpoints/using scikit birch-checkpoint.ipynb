{
 "cells": [
  {
   "cell_type": "code",
   "execution_count": 69,
   "metadata": {},
   "outputs": [
    {
     "data": {
      "text/plain": [
       "array([[ 9.        ,  6.        ],\n",
       "       [ 4.        ,  7.        ],\n",
       "       [ 5.        ,  4.        ],\n",
       "       [ 7.        ,  2.        ],\n",
       "       [ 8.        ,  1.        ],\n",
       "       [ 2.        ,  3.        ],\n",
       "       [ 8.00661391,  8.53836159],\n",
       "       [ 1.54989992,  9.65622489],\n",
       "       [ 2.2344945 ,  6.46011147],\n",
       "       [ 8.0700172 ,  6.37787591],\n",
       "       [ 4.50757064,  3.26119309],\n",
       "       [ 9.91049561,  4.67876718],\n",
       "       [ 1.45308185,  5.51089706],\n",
       "       [ 6.84439351,  5.41072925],\n",
       "       [ 6.38429464,  2.09996604],\n",
       "       [ 2.93313089,  5.60243733]])"
      ]
     },
     "execution_count": 69,
     "metadata": {},
     "output_type": "execute_result"
    }
   ],
   "source": [
    "X1= np.column_stack(([9, 4, 5, 7, 8, 2], [6, 7, 4, 2, 1, 3]))\n",
    "n_attributes = 2\n",
    "n_data = 10\n",
    "X2 = 10 * np.random.uniform(0,1,n_data*n_attributes).reshape((n_data,n_attributes))\n",
    "X = np.vstack((X1,X2))\n",
    "X"
   ]
  },
  {
   "cell_type": "code",
   "execution_count": 70,
   "metadata": {},
   "outputs": [
    {
     "data": {
      "text/plain": [
       "array([0, 1, 1, 2, 2, 3, 2, 1, 1, 0, 2, 2, 3, 0, 4, 1])"
      ]
     },
     "execution_count": 70,
     "metadata": {},
     "output_type": "execute_result"
    }
   ],
   "source": [
    "from sklearn.cluster import Birch\n",
    "import numpy as np\n",
    "threshold_ = .2\n",
    "X = np.array([[ 9.        ,  6.        ],\n",
    "       [ 4.        ,  7.        ],\n",
    "       [ 5.        ,  4.        ],\n",
    "       [ 7.        ,  2.        ],\n",
    "       [ 8.        ,  1.        ],\n",
    "       [ 2.        ,  3.        ],\n",
    "       [ 5.22445109,  2.62555391],\n",
    "       [ 6.76585141,  4.56331192],\n",
    "       [ 5.48181118,  6.47511743],\n",
    "       [ 7.55744569,  5.7915535 ],\n",
    "       [ 8.81542765,  2.23368071],\n",
    "       [ 6.18190813,  2.50983021],\n",
    "       [ 2.03850991,  1.10819024],\n",
    "       [ 8.38817689,  6.91501498],\n",
    "       [ 0.71072304,  8.50164547],\n",
    "       [ 4.54668121,  5.22992012]])\n",
    "X = X / 10\n",
    "brc = Birch(branching_factor=50, n_clusters=None, threshold=threshold_,\n",
    "compute_labels=True)\n",
    "brc.fit(X)\n",
    "\n",
    "\n",
    "brc.predict(X)"
   ]
  },
  {
   "cell_type": "code",
   "execution_count": 71,
   "metadata": {},
   "outputs": [
    {
     "data": {
      "text/plain": [
       "array([[ 0.83152075,  0.62355228],\n",
       "       [ 0.51588688,  0.54536699],\n",
       "       [ 0.70443574,  0.2073813 ],\n",
       "       [ 0.2019255 ,  0.20540951],\n",
       "       [ 0.0710723 ,  0.85016455]])"
      ]
     },
     "execution_count": 71,
     "metadata": {},
     "output_type": "execute_result"
    }
   ],
   "source": [
    "brc.subcluster_centers_"
   ]
  },
  {
   "cell_type": "code",
   "execution_count": 72,
   "metadata": {},
   "outputs": [
    {
     "name": "stdout",
     "output_type": "stream",
     "text": [
      "[[ 0.83152075  0.62355228]\n",
      " [ 0.51588688  0.54536699]\n",
      " [ 0.70443574  0.2073813 ]\n",
      " [ 0.2019255   0.20540951]\n",
      " [ 0.0710723   0.85016455]]\n"
     ]
    }
   ],
   "source": [
    "import matplotlib.pyplot as plt\n",
    "labels = brc.labels_\n",
    "unique_labels = set(labels)\n",
    "colors = plt.cm.Spectral(np.linspace(0, 1, len(unique_labels)))\n",
    "centers = brc.subcluster_centers_\n",
    "print centers"
   ]
  },
  {
   "cell_type": "code",
   "execution_count": 73,
   "metadata": {},
   "outputs": [
    {
     "name": "stdout",
     "output_type": "stream",
     "text": [
      "[ 0.83152075  0.62355228]\n",
      "0.0878243567656\n",
      "[ 0.51588688  0.54536699]\n",
      "0.19323854687\n",
      "[ 0.70443574  0.2073813 ]\n",
      "0.190170369717\n",
      "[ 0.2019255   0.20540951]\n",
      "0.0946100837807\n",
      "[ 0.0710723   0.85016455]\n",
      "0\n"
     ]
    }
   ],
   "source": [
    "plt.plot(centers[:, 0], centers[:, 1], 'x')\n",
    "for center, label in zip(centers, range(max(labels) + 1)) :\n",
    "    print center\n",
    "    class_member_mask = (labels == label)\n",
    "    X_class = X[class_member_mask]\n",
    "    radius = 0\n",
    "    for member in X_class:\n",
    "        distance = np.linalg.norm(member - center)\n",
    "        if distance > radius:\n",
    "            radius = distance\n",
    "    print radius\n",
    "    circle = plt.Circle(center,radius,color='r',fill=False)\n",
    "    plt.gca().add_artist(circle)\n",
    "for label, col in zip(unique_labels, colors):\n",
    "    class_member_mask = (labels == label)\n",
    "    X_class = X[class_member_mask]\n",
    "    plt.plot(X_class[:, 0], X_class[:, 1], 'o', markerfacecolor=col)\n",
    "plt.margins(0.2,0.2)\n",
    "plt.show()"
   ]
  },
  {
   "cell_type": "code",
   "execution_count": 68,
   "metadata": {},
   "outputs": [
    {
     "data": {
      "text/plain": [
       "array([[ 0.9       ,  0.6       ],\n",
       "       [ 0.4       ,  0.7       ],\n",
       "       [ 0.5       ,  0.4       ],\n",
       "       [ 0.7       ,  0.2       ],\n",
       "       [ 0.8       ,  0.1       ],\n",
       "       [ 0.2       ,  0.3       ],\n",
       "       [ 0.52244511,  0.26255539],\n",
       "       [ 0.67658514,  0.45633119],\n",
       "       [ 0.54818112,  0.64751174],\n",
       "       [ 0.75574457,  0.57915535],\n",
       "       [ 0.88154277,  0.22336807],\n",
       "       [ 0.61819081,  0.25098302],\n",
       "       [ 0.20385099,  0.11081902],\n",
       "       [ 0.83881769,  0.6915015 ],\n",
       "       [ 0.0710723 ,  0.85016455],\n",
       "       [ 0.45466812,  0.52299201]])"
      ]
     },
     "execution_count": 68,
     "metadata": {},
     "output_type": "execute_result"
    }
   ],
   "source": [
    "X"
   ]
  },
  {
   "cell_type": "code",
   "execution_count": null,
   "metadata": {},
   "outputs": [],
   "source": []
  },
  {
   "cell_type": "code",
   "execution_count": null,
   "metadata": {},
   "outputs": [],
   "source": []
  },
  {
   "cell_type": "code",
   "execution_count": null,
   "metadata": {},
   "outputs": [],
   "source": []
  },
  {
   "cell_type": "code",
   "execution_count": null,
   "metadata": {},
   "outputs": [],
   "source": []
  }
 ],
 "metadata": {
  "kernelspec": {
   "display_name": "Python 2",
   "language": "python",
   "name": "python2"
  },
  "language_info": {
   "codemirror_mode": {
    "name": "ipython",
    "version": 2.0
   },
   "file_extension": ".py",
   "mimetype": "text/x-python",
   "name": "python",
   "nbconvert_exporter": "python",
   "pygments_lexer": "ipython2",
   "version": "2.7.6"
  }
 },
 "nbformat": 4,
 "nbformat_minor": 0
}
