{
 "cells": [
  {
   "cell_type": "code",
   "execution_count": 40,
   "metadata": {
    "collapsed": true
   },
   "outputs": [],
   "source": [
    "import numpy as np"
   ]
  },
  {
   "cell_type": "code",
   "execution_count": 41,
   "metadata": {
    "collapsed": false
   },
   "outputs": [
    {
     "data": {
      "text/plain": [
       "array([[  9.78201483,  11.29181946],\n",
       "       [  9.48031382,  11.00349368],\n",
       "       [  8.14745305,   9.72368839],\n",
       "       [ 10.98843458,   9.30236495],\n",
       "       [  9.56353234,   8.64887604],\n",
       "       [  8.71550983,   8.43486564],\n",
       "       [  8.68069675,  10.77834639],\n",
       "       [ 10.61293232,   9.4225873 ],\n",
       "       [ 12.70266655,   8.48021842],\n",
       "       [  9.54807706,   9.78669531],\n",
       "       [  9.73788597,  10.52205618],\n",
       "       [ 12.37374885,  13.13152788],\n",
       "       [  9.8414863 ,   7.96110083],\n",
       "       [ 10.09412827,  13.55636359],\n",
       "       [ 10.36463085,  10.7913078 ],\n",
       "       [ 11.51056148,   9.6428957 ],\n",
       "       [  8.38522414,  13.53662131],\n",
       "       [  2.63916255,   3.62416439],\n",
       "       [  2.53281341,   3.07359884],\n",
       "       [  2.82234549,   2.90083095],\n",
       "       [  6.48517887,   0.9703061 ],\n",
       "       [  4.06236461,   1.70164549],\n",
       "       [  5.30944818,   5.03521151],\n",
       "       [  0.64746963,   7.38005076],\n",
       "       [  2.37659895,   4.16946355],\n",
       "       [  3.31592683,   4.32245227],\n",
       "       [  5.36772867,   3.17722984]])"
      ]
     },
     "execution_count": 41,
     "metadata": {},
     "output_type": "execute_result"
    }
   ],
   "source": [
    "#X1= np.column_stack(([9, 4, 5, 7, 8, 2], [6, 7, 4, 2, 1, 3]))\n",
    "n_attributes = 2\n",
    "n_data = 10\n",
    "X2 = 10 * np.random.uniform(0,1,n_data*n_attributes).reshape((n_data,n_attributes))\n",
    "X = np.vstack((X1,X2))\n",
    "X"
   ]
  },
  {
   "cell_type": "code",
   "execution_count": 51,
   "metadata": {
    "collapsed": false
   },
   "outputs": [
    {
     "data": {
      "text/plain": [
       "array([0, 1, 1, 2, 1, 3, 3, 3, 1, 2, 0, 3, 0, 0, 3, 0, 2, 1, 3, 2, 3, 1, 3,\n",
       "       1, 0, 0, 2, 3, 0, 0, 2, 1, 1, 0, 3, 2, 3, 2, 2, 1, 3, 0, 2, 2, 2, 1,\n",
       "       1, 3, 0, 2, 1, 0, 3, 3, 1, 0, 2, 2, 0, 1, 0, 2, 2, 0, 1, 1])"
      ]
     },
     "execution_count": 51,
     "metadata": {},
     "output_type": "execute_result"
    }
   ],
   "source": [
    "from sklearn.cluster import Birch\n",
    "import numpy as np\n",
    "threshold_ = 3\n",
    "mean1 = [10, 10]\n",
    "mean2 = [20, 20]\n",
    "mean3 = [10, 30]\n",
    "mean4 = [50, 50]\n",
    "cov1 = [[2.5, 0], [0, 2.5]]\n",
    "cov2 = [[1, 0], [0, 1]]\n",
    "X1= np.random.multivariate_normal(mean1, cov1, 17)\n",
    "X2= np.random.multivariate_normal(mean2, cov1, 17)\n",
    "X3= np.random.multivariate_normal(mean3, cov1, 17)\n",
    "X4 = np.random.multivariate_normal(mean4, cov2,15)\n",
    "X = np.vstack((X1,X2,X3,X4))\n",
    "order = np.arange(len(X))\n",
    "np.random.shuffle(order)\n",
    "X = X[order]\n",
    "brc = Birch(branching_factor=50, n_clusters=None, threshold=threshold_,\n",
    "compute_labels=True)\n",
    "brc.fit(X)\n",
    "\n",
    "\n",
    "brc.predict(X)"
   ]
  },
  {
   "cell_type": "code",
   "execution_count": 52,
   "metadata": {
    "collapsed": false
   },
   "outputs": [
    {
     "data": {
      "text/plain": [
       "array([[ 10.38120866,  30.09795644],\n",
       "       [  9.90079753,   9.76909056],\n",
       "       [ 19.7689992 ,  19.53467244],\n",
       "       [ 50.10922134,  50.22058974]])"
      ]
     },
     "execution_count": 52,
     "metadata": {},
     "output_type": "execute_result"
    }
   ],
   "source": [
    "brc.subcluster_centers_"
   ]
  },
  {
   "cell_type": "code",
   "execution_count": 53,
   "metadata": {
    "collapsed": false
   },
   "outputs": [
    {
     "name": "stdout",
     "output_type": "stream",
     "text": [
      "[[ 10.38120866  30.09795644]\n",
      " [  9.90079753   9.76909056]\n",
      " [ 19.7689992   19.53467244]\n",
      " [ 50.10922134  50.22058974]]\n"
     ]
    }
   ],
   "source": [
    "import matplotlib.pyplot as plt\n",
    "labels = brc.labels_\n",
    "unique_labels = set(labels)\n",
    "colors = plt.cm.Spectral(np.linspace(0, 1, len(unique_labels)))\n",
    "centers = brc.subcluster_centers_\n",
    "print centers"
   ]
  },
  {
   "cell_type": "code",
   "execution_count": 54,
   "metadata": {
    "collapsed": false
   },
   "outputs": [
    {
     "name": "stdout",
     "output_type": "stream",
     "text": [
      "[ 10.38120866  30.09795644]\n",
      "3.00486281612\n",
      "[ 9.90079753  9.76909056]\n",
      "4.3288381855\n",
      "[ 19.7689992   19.53467244]\n",
      "3.75778985779\n",
      "[ 50.10922134  50.22058974]\n",
      "1.9074036073\n"
     ]
    }
   ],
   "source": [
    "plt.plot(centers[:, 0], centers[:, 1], 'x')\n",
    "for center, label in zip(centers, range(max(labels) + 1)) :\n",
    "    print center\n",
    "    class_member_mask = (labels == label)\n",
    "    X_class = X[class_member_mask]\n",
    "    radius = 0\n",
    "    for member in X_class:\n",
    "        distance = np.linalg.norm(member - center)\n",
    "        if distance > radius:\n",
    "            radius = distance\n",
    "    print radius\n",
    "    circle = plt.Circle(center,radius,color='r',fill=False)\n",
    "    plt.gca().add_artist(circle)\n",
    "for label, col in zip(unique_labels, colors):\n",
    "    class_member_mask = (labels == label)\n",
    "    X_class = X[class_member_mask]\n",
    "    plt.plot(X_class[:, 0], X_class[:, 1], 'o', markerfacecolor=col)\n",
    "plt.margins(0.2,0.2)\n",
    "plt.show()"
   ]
  },
  {
   "cell_type": "code",
   "execution_count": 55,
   "metadata": {
    "collapsed": false
   },
   "outputs": [
    {
     "data": {
      "text/plain": [
       "array([[ 10.70150872,  32.32609682],\n",
       "       [ 10.32134918,  12.20560906],\n",
       "       [ 10.65483218,  11.51255129],\n",
       "       [ 21.25394025,  19.30545636],\n",
       "       [  9.42273932,   7.31569221],\n",
       "       [ 48.47257221,  50.01989354],\n",
       "       [ 50.79839463,  51.1855896 ],\n",
       "       [ 49.75620328,  50.53395255],\n",
       "       [  9.87185228,   8.57154519],\n",
       "       [ 20.50600693,  21.62218895],\n",
       "       [ 11.33728416,  30.97739675],\n",
       "       [ 50.97167213,  48.51930577],\n",
       "       [  9.23202995,  30.34488094],\n",
       "       [ 11.89710796,  31.30289894],\n",
       "       [ 49.29029394,  50.24631046],\n",
       "       [  9.63899692,  27.41173292],\n",
       "       [ 18.37820858,  18.89321346],\n",
       "       [ 11.45507201,   9.51690608],\n",
       "       [ 50.14329425,  50.78391557],\n",
       "       [ 18.11021204,  19.72270494],\n",
       "       [ 50.0772085 ,  50.0935676 ],\n",
       "       [  9.39278211,  10.24615452],\n",
       "       [ 50.16116409,  49.89755382],\n",
       "       [  6.09524443,   7.70593627],\n",
       "       [ 11.32912962,  29.51444294],\n",
       "       [  9.52178842,  30.78338568],\n",
       "       [ 18.78263221,  17.94163448],\n",
       "       [ 51.2863269 ,  49.57929198],\n",
       "       [ 12.65250703,  31.6537519 ],\n",
       "       [ 10.83459908,  29.05959979],\n",
       "       [ 19.51204217,  20.89294698],\n",
       "       [  7.73219555,   8.04605903],\n",
       "       [  9.94779097,   9.8026261 ],\n",
       "       [  9.18127575,  32.14876758],\n",
       "       [ 49.64218189,  51.30112171],\n",
       "       [ 22.19567484,  19.19027371],\n",
       "       [ 50.07343888,  48.97175079],\n",
       "       [ 18.49544935,  21.12439543],\n",
       "       [ 19.25866081,  19.25486801],\n",
       "       [ 11.79732826,   9.37494453],\n",
       "       [ 50.35403464,  49.57731754],\n",
       "       [ 10.00072436,  27.11727996],\n",
       "       [ 22.16231952,  16.63760453],\n",
       "       [ 20.10197707,  19.78222804],\n",
       "       [ 21.56982038,  19.05343499],\n",
       "       [ 11.50830309,  11.50872172],\n",
       "       [ 10.46970929,   8.71849971],\n",
       "       [ 48.74815715,  50.9955121 ],\n",
       "       [ 11.11914633,  30.55194656],\n",
       "       [ 18.29841389,  17.53898405],\n",
       "       [ 10.8417607 ,  11.24574762],\n",
       "       [ 10.75720926,  28.40613838],\n",
       "       [ 51.34875553,  51.23451775],\n",
       "       [ 50.514622  ,  50.36924535],\n",
       "       [ 10.82853108,  11.3242947 ],\n",
       "       [  9.36547796,  31.75398462],\n",
       "       [ 16.34252927,  20.46452781],\n",
       "       [ 19.53210089,  21.51490842],\n",
       "       [  9.58634901,  28.46641371],\n",
       "       [  8.04599742,   7.97915627],\n",
       "       [ 11.60118354,  30.72948698],\n",
       "       [ 21.22692414,  18.55718351],\n",
       "       [ 20.34607403,  20.59287778],\n",
       "       [  7.7242292 ,  29.11705496],\n",
       "       [  8.58290487,  11.07780642],\n",
       "       [ 11.34516535,   9.9222888 ]])"
      ]
     },
     "execution_count": 55,
     "metadata": {},
     "output_type": "execute_result"
    }
   ],
   "source": [
    "X"
   ]
  },
  {
   "cell_type": "code",
   "execution_count": null,
   "metadata": {
    "collapsed": true
   },
   "outputs": [],
   "source": []
  },
  {
   "cell_type": "code",
   "execution_count": null,
   "metadata": {
    "collapsed": true
   },
   "outputs": [],
   "source": []
  },
  {
   "cell_type": "code",
   "execution_count": null,
   "metadata": {
    "collapsed": true
   },
   "outputs": [],
   "source": []
  },
  {
   "cell_type": "code",
   "execution_count": null,
   "metadata": {
    "collapsed": true
   },
   "outputs": [],
   "source": []
  }
 ],
 "metadata": {
  "kernelspec": {
   "display_name": "Python 2",
   "language": "python",
   "name": "python2"
  },
  "language_info": {
   "codemirror_mode": {
    "name": "ipython",
    "version": 2
   },
   "file_extension": ".py",
   "mimetype": "text/x-python",
   "name": "python",
   "nbconvert_exporter": "python",
   "pygments_lexer": "ipython2",
   "version": "2.7.10"
  }
 },
 "nbformat": 4,
 "nbformat_minor": 0
}
