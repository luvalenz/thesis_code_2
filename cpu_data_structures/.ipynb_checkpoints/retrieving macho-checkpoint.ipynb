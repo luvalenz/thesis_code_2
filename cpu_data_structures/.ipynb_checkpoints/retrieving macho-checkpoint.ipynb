{
 "cells": [
  {
   "cell_type": "code",
   "execution_count": 1,
   "metadata": {
    "collapsed": false
   },
   "outputs": [],
   "source": [
    "%matplotlib inline\n",
    "import pandas as pd\n",
    "import numpy as np\n",
    "import glob\n",
    "import tarfile\n",
    "import sys\n",
    "if sys.version_info[0] < 3:\n",
    "    from StringIO import StringIO\n",
    "else:\n",
    "    from io import StringIO\n",
    "from pandas import DataFrame\n",
    "import matplotlib.pyplot as plt"
   ]
  },
  {
   "cell_type": "code",
   "execution_count": 2,
   "metadata": {
    "collapsed": false
   },
   "outputs": [
    {
     "name": "stderr",
     "output_type": "stream",
     "text": [
      "/home/lucas/anaconda/lib/python2.7/site-packages/matplotlib/__init__.py:1318: UserWarning:  This call to matplotlib.use() has no effect\n",
      "because the backend has already been chosen;\n",
      "matplotlib.use() must be called *before* pylab, matplotlib.pyplot,\n",
      "or matplotlib.backends is imported for the first time.\n",
      "\n",
      "  warnings.warn(_use_error_msg)\n"
     ]
    }
   ],
   "source": [
    "import simulation\n",
    "import NewDataStructures"
   ]
  },
  {
   "cell_type": "code",
   "execution_count": 3,
   "metadata": {
    "collapsed": true
   },
   "outputs": [],
   "source": [
    "class MachoDataSet:\n",
    "    \n",
    "    def __init__(self, light_curves_path, features_path):\n",
    "        self.light_curves_path = light_curves_path\n",
    "        self.features_path = features_path\n",
    "        \n",
    "    def get_light_curve_by_id(self, _id, band):\n",
    "        full_id = '{0}.{1}'.format(_id, band)\n",
    "        id_data = _id.split('.')\n",
    "        field = int(id_data[0])\n",
    "        tile = int(id_data[1])\n",
    "        tar = tarfile.open('{0}/F_{1}/{2}.tar'.format(self.light_curves_path, field, tile))\n",
    "        file_name = 'F_{0}/{1}/lc_{2}.mjd'.format(field, tile, full_id)\n",
    "        light_curve_file_string = tar.extractfile(tar.getmember(file_name)).read()\n",
    "        return pd.read_csv(StringIO(light_curve_file_string), header=2, delimiter=' ')\n",
    "    \n",
    "    def get_light_curve(self, field, tile, seq, band):\n",
    "        _id = '{0}.{1}.{2}'.format(field, tile, seq)\n",
    "        return self.get_light_curve_by_id(_id, band)\n",
    "    \n",
    "    def get_light_curve_features_by_id(self, _id):\n",
    "        id_data = _id.split('.')\n",
    "        field = int(id_data[0])\n",
    "        tile = int(id_data[1])\n",
    "        field_data = self.get_feature_space(field, tile)\n",
    "        return field_data.loc[_id]\n",
    "    \n",
    "    def get_light_curve_features(field, tile, seq):\n",
    "        _id = '{0}.{1}.{2}'.format(field, tile, seq)\n",
    "        return get_light_curve_features_by_id(_id)\n",
    "        \n",
    "    def get_feature_space(self, field = '*', tile = '*'):\n",
    "        file_paths = glob.glob(\"{0}/F_{1}_{2}.csv\".format(self.features_path, field, tile))\n",
    "        dataframes = []\n",
    "        for file_path in file_paths:\n",
    "            file_dataframe = pd.read_csv(file_path, sep=',', index_col=0)\n",
    "            dataframes.append(file_dataframe)\n",
    "        return pd.concat(dataframes)"
   ]
  },
  {
   "cell_type": "code",
   "execution_count": 4,
   "metadata": {
    "collapsed": true
   },
   "outputs": [],
   "source": [
    "class MachoLightcurve:\n",
    "    interpolation_resolution = 1000\n",
    "\n",
    "    def __init__(self, _id, band, dataset):\n",
    "        self.dataset = dataset\n",
    "        self._id = _id\n",
    "        self.band = band\n",
    "        self._observations = None\n",
    "        self._interpolation = None\n",
    "        self._folded_observations = None\n",
    "        self._features = None\n",
    "        \n",
    "    @property\n",
    "    def observations(self):\n",
    "        if self._observations is None:\n",
    "            self._observations = self.dataset.get_light_curve_by_id(self._id, self.band)\n",
    "        return  self._observations\n",
    "    \n",
    "    \n",
    "    @property\n",
    "    def features(self):\n",
    "        if self._features is None:\n",
    "            self._features = self.dataset.get_light_curve_features_by_id(self._id)\n",
    "        return self._features\n",
    "\n",
    "    @property\n",
    "    def folded_observations(self):\n",
    "        if self._folded_observations is None:\n",
    "            self.fold()\n",
    "        return  self._folded_observations\n",
    "\n",
    "    @property\n",
    "    def number_of_obervations(self):\n",
    "        return len(self.observations)\n",
    "\n",
    "    @property\n",
    "    def interpolation(self):\n",
    "        if self._interpolation is None:\n",
    "            self.interpolate()\n",
    "        return self._interpolation\n",
    "\n",
    "    @property\n",
    "    def period(self):\n",
    "        return self.features.loc['PeriodLS']\n",
    "\n",
    "    @classmethod\n",
    "    def set_resolution(cls, res):\n",
    "        cls.resolution = res\n",
    "        \n",
    "    \n",
    "    def interpolate(self, values = None):\n",
    "        folded_observations = self.folded_observations\n",
    "        tck = interpolate.splrep(folded_observations[:,0], folded_observations[:,1], s=0)\n",
    "        phase = np.linspace(0.0, 1.0, num=self.interpolation_resolution)\n",
    "        knn = neighbors.KNeighborsRegressor(5, weights='distance')\n",
    "        if values is None:\n",
    "            values = knn.fit(np.matrix(folded_observations[:,0]).T, folded_observations[:,1]).predict(np.matrix(phase).T)\n",
    "        self._interpolation = np.column_stack((phase, np.array(values)))\n",
    "\n",
    "    def fold(self):\n",
    "        observations = self.observations.values\n",
    "        [time, mag, error] = [observations[:,0], observations[:,1], observations[:,2]]\n",
    "        T = self.period\n",
    "        phase = (time %  T)/T\n",
    "        folded_observations = np.column_stack((phase,mag,error))\n",
    "        folded_observations[np.argsort(folded_observations[:,0])]\n",
    "        self._folded_observations = folded_observations\n",
    "\n",
    "    def calculate_features(self):\n",
    "        pass\n",
    "\n",
    "\n",
    "    def plot_original(self):\n",
    "        observations = self.observations.values\n",
    "        [time, mag, error] = [observations[:,0], observations[:,1], observations[:,2]]\n",
    "        plt.plot(time, mag, '*')\n",
    "        plt.xlabel(\"Time\")\n",
    "        plt.ylabel(\"Magnitude\")\n",
    "        plt.gca().invert_yaxis()\n",
    "        plt.title(self._id)\n",
    "        plt.show()\n",
    "\n",
    "    def plot_folded(self):\n",
    "        folded_light_curve = self.folded_observations\n",
    "        phase = folded_light_curve[:,0]\n",
    "        mag = folded_light_curve[:,1]\n",
    "        plt.plot(phase, mag, '*')\n",
    "        plt.xlabel(\"Phase\")\n",
    "        plt.ylabel(\"Magnitude\")\n",
    "        plt.gca().invert_yaxis()\n",
    "        plt.title(self._id)\n",
    "        plt.show()\n",
    "\n",
    "\n",
    "    def plot_interpolation(self):\n",
    "        folded_light_curve = self.folded_observations\n",
    "        interpolation = self.interpolation\n",
    "        phase = folded_light_curve[:,0]\n",
    "        mag = folded_light_curve[:,1]\n",
    "        phase_interpolated = interpolation[:,0]\n",
    "        mag_interpolated = interpolation[:,1]\n",
    "        plt.plot(phase, mag, '*', color='blue')\n",
    "        plt.plot(phase_interpolated, mag_interpolated, '*', color='red')\n",
    "        plt.xlabel(\"Phase\")\n",
    "        plt.ylabel(\"Magnitude\")\n",
    "        plt.gca().invert_yaxis()\n",
    "        plt.title(self._id)\n",
    "        plt.show()"
   ]
  },
  {
   "cell_type": "code",
   "execution_count": 5,
   "metadata": {
    "collapsed": false
   },
   "outputs": [],
   "source": [
    "macho_ds = MachoDataSet('/media/lucas/115d830f-0d51-49ad-8a2f-84544fbab639/MACHO_LMC', '/media/lucas/115d830f-0d51-49ad-8a2f-84544fbab639/MACHO_features_Harmonics')\n",
    "#features = macho_ds.get_feature_space(1,3319)\n",
    "features = macho_ds.get_light_curve_features_by_id('1.3319.10')"
   ]
  },
  {
   "cell_type": "code",
   "execution_count": 6,
   "metadata": {
    "collapsed": false
   },
   "outputs": [],
   "source": [
    "_id = '1.3567.1010'\n",
    "lc_B_data = macho_ds.get_light_curve_by_id(_id,'B')\n",
    "lc_R_data = macho_ds.get_light_curve_by_id(_id,'R')\n",
    "lc_features = macho_ds.get_light_curve_features_by_id('1.3567.1010')"
   ]
  },
  {
   "cell_type": "code",
   "execution_count": 7,
   "metadata": {
    "collapsed": false
   },
   "outputs": [],
   "source": [
    "lcB = MachoLightcurve('1.3567.1010','B', macho_ds)"
   ]
  },
  {
   "cell_type": "code",
   "execution_count": 8,
   "metadata": {
    "collapsed": false
   },
   "outputs": [],
   "source": [
    "lcR = MachoLightcurve('1.3567.1010','R', macho_ds)"
   ]
  },
  {
   "cell_type": "code",
   "execution_count": 9,
   "metadata": {
    "collapsed": false
   },
   "outputs": [
    {
     "data": {
      "image/png": "[encoded data removed]",
      "text/plain": [
       "<matplotlib.figure.Figure at 0x7fa7edcd1090>"
      ]
     },
     "metadata": {},
     "output_type": "display_data"
    }
   ],
   "source": [
    "lcR.plot_folded()"
   ]
  },
  {
   "cell_type": "code",
   "execution_count": 10,
   "metadata": {
    "collapsed": false
   },
   "outputs": [
    {
     "data": {
      "image/png": "[encoded data removed]",
      "text/plain": [
       "<matplotlib.figure.Figure at 0x7fa7ee2b1750>"
      ]
     },
     "metadata": {},
     "output_type": "display_data"
    }
   ],
   "source": [
    "lcB.plot_folded()"
   ]
  },
  {
   "cell_type": "code",
   "execution_count": 11,
   "metadata": {
    "collapsed": false
   },
   "outputs": [],
   "source": [
    "#set cluster radius number of targets and cluster radius\n",
    "cluster_radius = 0.1\n",
    "n_targets = 10"
   ]
  },
  {
   "cell_type": "code",
   "execution_count": 13,
   "metadata": {
    "collapsed": false
   },
   "outputs": [],
   "source": [
    "data, ids, cols = simulation.get_macho_ts(None)\n",
    "target_indices = np.random.choice(len(data), n_targets, replace=False)\n",
    "data_indices = list(set(np.arange(len(data))) - set(target_indices))\n",
    "targets = data[target_indices]\n",
    "data = data[data_indices]\n"
   ]
  },
  {
   "cell_type": "code",
   "execution_count": 17,
   "metadata": {
    "collapsed": false
   },
   "outputs": [
    {
     "data": {
      "text/plain": [
       "(6049, 64)"
      ]
     },
     "execution_count": 17,
     "metadata": {},
     "output_type": "execute_result"
    }
   ],
   "source": [
    "data.shape"
   ]
  },
  {
   "cell_type": "code",
   "execution_count": 18,
   "metadata": {
    "collapsed": false
   },
   "outputs": [
    {
     "data": {
      "text/plain": [
       "(6059,)"
      ]
     },
     "execution_count": 18,
     "metadata": {},
     "output_type": "execute_result"
    }
   ],
   "source": [
    "ids.shape"
   ]
  },
  {
   "cell_type": "code",
   "execution_count": null,
   "metadata": {
    "collapsed": false
   },
   "outputs": [],
   "source": [
    "model.query(targets[0], 1)"
   ]
  },
  {
   "cell_type": "code",
   "execution_count": null,
   "metadata": {
    "collapsed": false
   },
   "outputs": [],
   "source": []
  },
  {
   "cell_type": "code",
   "execution_count": null,
   "metadata": {
    "collapsed": true
   },
   "outputs": [],
   "source": [
    "data = pd.read_csv('MACHO_ts2.csv', sep=',', index_col=0)"
   ]
  },
  {
   "cell_type": "code",
   "execution_count": null,
   "metadata": {
    "collapsed": false
   },
   "outputs": [],
   "source": [
    "data.columns.values"
   ]
  },
  {
   "cell_type": "code",
   "execution_count": null,
   "metadata": {
    "collapsed": true
   },
   "outputs": [],
   "source": []
  }
 ],
 "metadata": {
  "kernelspec": {
   "display_name": "Python 2",
   "language": "python",
   "name": "python2"
  },
  "language_info": {
   "codemirror_mode": {
    "name": "ipython",
    "version": 2
   },
   "file_extension": ".py",
   "mimetype": "text/x-python",
   "name": "python",
   "nbconvert_exporter": "python",
   "pygments_lexer": "ipython2",
   "version": "2.7.10"
  }
 },
 "nbformat": 4,
 "nbformat_minor": 0
}
