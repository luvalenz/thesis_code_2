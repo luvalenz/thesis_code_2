{
 "cells": [
  {
   "cell_type": "code",
   "execution_count": 12,
   "metadata": {
    "collapsed": false
   },
   "outputs": [
    {
     "data": {
      "text/plain": [
       "array([[ 0.59937309,  0.80006514,  0.02544939],\n",
       "       [ 0.564524  , -0.39994844, -0.7220484 ],\n",
       "       [ 0.56750731, -0.44714317,  0.69137431]])"
      ]
     },
     "execution_count": 12,
     "metadata": {},
     "output_type": "execute_result"
    }
   ],
   "source": [
    "#PCA\n",
    "\n",
    "import pandas as pd\n",
    "import numpy as np\n",
    "from mpl_toolkits.mplot3d import Axes3D\n",
    "from matplotlib.patches import FancyArrowPatch\n",
    "from mpl_toolkits.mplot3d import proj3d\n",
    "import matplotlib.pyplot as plt\n",
    "%matplotlib inline  \n",
    "from numpy import linalg as LA\n",
    "\n",
    "# obtained from http://stackoverflow.com/questions/22867620/putting-arrowheads-on-vectors-in-matplotlibs-3d-plot\n",
    "class Arrow3D(FancyArrowPatch):\n",
    "    def __init__(self, xs, ys, zs, *args, **kwargs):\n",
    "        FancyArrowPatch.__init__(self, (0,0), (0,0), *args, **kwargs)\n",
    "        self._verts3d = xs, ys, zs\n",
    "\n",
    "    def draw(self, renderer):\n",
    "        xs3d, ys3d, zs3d = self._verts3d\n",
    "        xs, ys, zs = proj3d.proj_transform(xs3d, ys3d, zs3d, renderer.M)\n",
    "        self.set_positions((xs[0],ys[0]),(xs[1],ys[1]))\n",
    "        FancyArrowPatch.draw(self, renderer)\n",
    "\n",
    "\n",
    "DIM_INI = 3\n",
    "N_DATA  = 1000\n",
    "NEW_DIM = 2\n",
    "\n",
    "np.random.normal()\n",
    "\n",
    "cov_mat = np.random.rand(DIM_INI,DIM_INI)\n",
    "cov_mat = np.dot(cov_mat,cov_mat.T)\n",
    "\n",
    "mean_x  = np.random.rand(DIM_INI)\n",
    "\n",
    "#Generate data\n",
    "X       = np.random.multivariate_normal(mean_x,cov_mat,N_DATA)\n",
    "\n",
    "#Normalize data\n",
    "for i in range(DIM_INI):\n",
    "    mean_xi = np.mean(X[:,i])\n",
    "    std_xi  = np.std(X[:,i])\n",
    "    X[:,i]=(X[:,i]-mean_xi)/std_xi\n",
    "    mean_x[i] = (mean_x[i]-mean_xi)/std_xi\n",
    "\n",
    "X_t     = X.T\n",
    "cov_x   = np.cov(X_t)\n",
    "\n",
    "eigenvals_x,eigenvects_x = LA.eig(cov_x)\n",
    "eigenvects_x\n"
   ]
  },
  {
   "cell_type": "code",
   "execution_count": 13,
   "metadata": {
    "collapsed": false
   },
   "outputs": [
    {
     "data": {
      "text/plain": [
       "array([ 1.66355188,  1.56682872,  1.57510886])"
      ]
     },
     "execution_count": 13,
     "metadata": {},
     "output_type": "execute_result"
    }
   ],
   "source": [
    "eigenvals_x[0] * eigenvects_x[:,0]"
   ]
  },
  {
   "cell_type": "code",
   "execution_count": 14,
   "metadata": {
    "collapsed": false
   },
   "outputs": [
    {
     "data": {
      "text/plain": [
       "array([ 1.66355188,  1.56682872,  1.57510886])"
      ]
     },
     "execution_count": 14,
     "metadata": {},
     "output_type": "execute_result"
    }
   ],
   "source": [
    "np.dot(cov_x, eigenvects_x[:,0])"
   ]
  },
  {
   "cell_type": "code",
   "execution_count": 4,
   "metadata": {
    "collapsed": false
   },
   "outputs": [
    {
     "data": {
      "text/plain": [
       "array([[-0.57677162, -0.72847017, -0.36968326],\n",
       "       [-0.57695735,  0.68363073, -0.44695552]])"
      ]
     },
     "execution_count": 4,
     "metadata": {},
     "output_type": "execute_result"
    }
   ],
   "source": [
    "eigenval_sort_idxs       = np.argsort(eigenvals_x)\n",
    "\n",
    "#Obtain projection matrix\n",
    "A       = np.empty((NEW_DIM,DIM_INI))\n",
    "for i in range(NEW_DIM):\n",
    "    A[i,:] = eigenvects_x[eigenval_sort_idxs[NEW_DIM-i],:]\n",
    "\n",
    "#Obtain projected data\n",
    "Proy    = np.dot(A, X_t)\n",
    "A"
   ]
  },
  {
   "cell_type": "code",
   "execution_count": null,
   "metadata": {
    "collapsed": true
   },
   "outputs": [],
   "source": [
    "if DIM_INI == 3:\n",
    "    fig = plt.figure(figsize=(16, 10))\n",
    "    ax = fig.add_subplot(111, projection='3d')\n",
    "    ax.scatter(X[:,0], X[:,1], X[:,2], c='r', marker='o',alpha=.5)\n",
    "    for v in eigenvects_x:\n",
    "        a = Arrow3D([mean_x[0], v[0]], [mean_x[1], v[1]], [mean_x[2], v[2]], mutation_scale=20, lw=3,arrowstyle=\"-|>\", color=\"b\")\n",
    "        ax.add_artist(a)\n",
    "    ax.set_xlabel('X Label')\n",
    "    ax.set_ylabel('Y Label')\n",
    "    ax.set_zlabel('Z Label')\n",
    "    plt.title('All data with original eigenvectors')\n",
    "    plt.draw()\n",
    "    plt.show()"
   ]
  },
  {
   "cell_type": "code",
   "execution_count": 3,
   "metadata": {
    "collapsed": false
   },
   "outputs": [],
   "source": [
    "#plot 2d data\n",
    "if NEW_DIM == 2:\n",
    "    Proy_t=Proy.T\n",
    "    fig = plt.figure(figsize=(16, 10))\n",
    "    ax = fig.add_subplot(111)\n",
    "    for i in range(NEW_DIM):\n",
    "        eig_vect = eigenvects_x[eigenval_sort_idxs[NEW_DIM-i],:]\n",
    "        ax.arrow(mean_x[0],mean_x[1],eig_vect[0],eig_vect[1], head_width=0.05, head_length=0.1, fc='k', ec='k')\n",
    "    ax.scatter(Proy_t[:,0], Proy_t[:,1], color = 'r', marker='o',alpha=.5)\n",
    "    plt.title('Principal components')\n",
    "    plt.draw()\n",
    "    plt.show()\n"
   ]
  },
  {
   "cell_type": "code",
   "execution_count": null,
   "metadata": {
    "collapsed": false
   },
   "outputs": [],
   "source": []
  }
 ],
 "metadata": {
  "kernelspec": {
   "display_name": "Python 2",
   "language": "python",
   "name": "python2"
  },
  "language_info": {
   "codemirror_mode": {
    "name": "ipython",
    "version": 2
   },
   "file_extension": ".py",
   "mimetype": "text/x-python",
   "name": "python",
   "nbconvert_exporter": "python",
   "pygments_lexer": "ipython2",
   "version": "2.7.10"
  }
 },
 "nbformat": 4,
 "nbformat_minor": 0
}
