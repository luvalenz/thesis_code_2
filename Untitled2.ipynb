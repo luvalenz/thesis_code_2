{
 "cells": [
  {
   "cell_type": "code",
   "execution_count": 91,
   "metadata": {
    "collapsed": false
   },
   "outputs": [],
   "source": [
    "import numpy as np\n",
    "mean1 = [10, 10]\n",
    "mean2 = [20, 20]\n",
    "mean3 = [10, 30]\n",
    "mean4 = [50, 50]\n",
    "cov1 = [[2.5, 0], [0, 2.5]]\n",
    "cov2 = [[1, 0], [0, 1]]\n",
    "X1= np.random.multivariate_normal(mean1, cov1, 17)\n",
    "X2= np.random.multivariate_normal(mean2, cov1, 12)\n",
    "X3= np.random.multivariate_normal(mean3, cov1, 17)\n",
    "X4 = np.random.multivariate_normal(mean4, cov2,15)\n",
    "X = np.vstack((X1, X2))\n",
    "x = X[:19,:]"
   ]
  },
  {
   "cell_type": "code",
   "execution_count": 97,
   "metadata": {
    "collapsed": false
   },
   "outputs": [
    {
     "name": "stdout",
     "output_type": "stream",
     "text": [
      "5.72930578413\n",
      "5.72930578413\n"
     ]
    }
   ],
   "source": [
    "x = np.array([[11.043777, 11.42556], [18.586139, 21.536681], [11.190585, 12.577958]])\n",
    "n = len(x)\n",
    "x0 = np.sum(x, axis=0)/n\n",
    "ss = np.sum(np.sum(x**2, axis=1))\n",
    "r = np.sqrt(np.sum(np.linalg.norm(x-x0, axis=1)**2)/n)\n",
    "r2 = np.sqrt(ss/n - np.linalg.norm(x0)**2)\n",
    "print(r)\n",
    "print(r2)"
   ]
  },
  {
   "cell_type": "code",
   "execution_count": 86,
   "metadata": {
    "collapsed": false
   },
   "outputs": [
    {
     "data": {
      "text/plain": [
       "0.547145907705617"
      ]
     },
     "execution_count": 86,
     "metadata": {},
     "output_type": "execute_result"
    }
   ],
   "source": [
    "(-5.74228776e-01)**2 + 4.66269472e-01**2"
   ]
  },
  {
   "cell_type": "code",
   "execution_count": 38,
   "metadata": {
    "collapsed": false
   },
   "outputs": [
    {
     "data": {
      "text/plain": [
       "array([ 14.91282271,  15.06824675])"
      ]
     },
     "execution_count": 38,
     "metadata": {},
     "output_type": "execute_result"
    }
   ],
   "source": [
    "x0 "
   ]
  },
  {
   "cell_type": "code",
   "execution_count": 23,
   "metadata": {
    "collapsed": false
   },
   "outputs": [
    {
     "data": {
      "text/plain": [
       "array([[ -5.74228776e-01,   4.66269472e-01],\n",
       "       [  4.77587764e-02,  -5.45335825e-01],\n",
       "       [  1.22797788e+00,   1.42064902e+00],\n",
       "       [  5.30653253e-01,  -2.54244467e+00],\n",
       "       [ -5.95685589e-01,   2.20674482e-01],\n",
       "       [ -4.57754014e-04,  -3.01271613e+00],\n",
       "       [ -8.67163461e-02,  -1.56826457e+00],\n",
       "       [  6.02664596e-01,   2.55349103e+00],\n",
       "       [  3.28799684e+00,   1.49725110e+00],\n",
       "       [  1.14432812e+00,   8.78512564e-01],\n",
       "       [ -8.60971729e-01,   2.06045829e+00],\n",
       "       [ -8.19471501e-01,  -2.81398699e+00],\n",
       "       [ -1.45336477e+00,   8.42121043e-01],\n",
       "       [ -1.04371454e+00,  -5.91474290e-01],\n",
       "       [ -2.70591121e-01,   1.97609909e+00],\n",
       "       [ -2.37362524e-01,   5.80946508e-01],\n",
       "       [ -8.98814820e-01,  -1.42225012e+00]])"
      ]
     },
     "execution_count": 23,
     "metadata": {},
     "output_type": "execute_result"
    }
   ],
   "source": []
  },
  {
   "cell_type": "code",
   "execution_count": 24,
   "metadata": {
    "collapsed": false
   },
   "outputs": [
    {
     "data": {
      "text/plain": [
       "array([[  9.68975179,  10.3193806 ],\n",
       "       [ 10.31173935,   9.30777531],\n",
       "       [ 11.49195844,  11.27376015],\n",
       "       [ 10.79463382,   7.31066646],\n",
       "       [  9.66829498,  10.07378561],\n",
       "       [ 10.26352281,   6.840395  ],\n",
       "       [ 10.17726422,   8.28484656],\n",
       "       [ 10.86664516,  12.40660216],\n",
       "       [ 13.55197741,  11.35036223],\n",
       "       [ 11.40830869,  10.7316237 ],\n",
       "       [  9.40300884,  11.91356943],\n",
       "       [  9.44450907,   7.03912414],\n",
       "       [  8.8106158 ,  10.69523217],\n",
       "       [  9.22026603,   9.26163684],\n",
       "       [  9.99338945,  11.82921022],\n",
       "       [ 10.02661805,  10.43405764],\n",
       "       [  9.36516575,   8.43086101]])"
      ]
     },
     "execution_count": 24,
     "metadata": {},
     "output_type": "execute_result"
    }
   ],
   "source": [
    "X"
   ]
  },
  {
   "cell_type": "code",
   "execution_count": null,
   "metadata": {
    "collapsed": true
   },
   "outputs": [],
   "source": []
  }
 ],
 "metadata": {
  "kernelspec": {
   "display_name": "Python 2",
   "language": "python",
   "name": "python2"
  },
  "language_info": {
   "codemirror_mode": {
    "name": "ipython",
    "version": 2
   },
   "file_extension": ".py",
   "mimetype": "text/x-python",
   "name": "python",
   "nbconvert_exporter": "python",
   "pygments_lexer": "ipython2",
   "version": "2.7.10"
  }
 },
 "nbformat": 4,
 "nbformat_minor": 0
}
