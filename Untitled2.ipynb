{
 "cells": [
  {
   "cell_type": "code",
   "execution_count": 30,
   "metadata": {
    "collapsed": false
   },
   "outputs": [],
   "source": [
    "import numpy as np\n",
    "mean1 = [10, 10]\n",
    "mean2 = [20, 20]\n",
    "mean3 = [10, 30]\n",
    "mean4 = [50, 50]\n",
    "cov1 = [[2.5, 0], [0, 2.5]]\n",
    "cov2 = [[1, 0], [0, 1]]\n",
    "X1= np.random.multivariate_normal(mean1, cov1, 17)\n",
    "X2= np.random.multivariate_normal(mean2, cov1, 12)\n",
    "X3= np.random.multivariate_normal(mean2, cov1, 20)\n",
    "X12 = np.vstack((X1,X2))"
   ]
  },
  {
   "cell_type": "code",
   "execution_count": 31,
   "metadata": {
    "collapsed": false
   },
   "outputs": [],
   "source": [
    "def linear_sum(array):\n",
    "    return np.sum(array, axis=0)\n",
    "\n",
    "def squared_norm(array):\n",
    "    return np.sum(np.linalg.norm(array, axis=1)**2, axis=0)\n",
    "\n",
    "def n_data(array):\n",
    "    return len(array)"
   ]
  },
  {
   "cell_type": "code",
   "execution_count": 32,
   "metadata": {
    "collapsed": false
   },
   "outputs": [],
   "source": [
    "def d_2_1(x1, x2):\n",
    "    n1 = len(x1)\n",
    "    n2 = len(x2)\n",
    "    result = 0\n",
    "    for v1 in x1:\n",
    "        for v2 in x2:\n",
    "            result += np.linalg.norm(v2-v1)**2\n",
    "    return np.sqrt(result/n1/n2)\n",
    "\n",
    "def d_2(x1, x2):\n",
    "    squared_norm1 = squared_norm(x1)\n",
    "    linear_sum_1 = linear_sum(x1)\n",
    "    n_data_1 = n_data(x1)\n",
    "    squared_norm2 = squared_norm(x2)\n",
    "    linear_sum_2 = linear_sum(x2)\n",
    "    n_data_2 = n_data(x2)\n",
    "    return np.sqrt(squared_norm1/n_data_1 + squared_norm2/n_data_2 - 2*np.dot(linear_sum_1, linear_sum_2)/n_data_1/n_data_2)"
   ]
  },
  {
   "cell_type": "code",
   "execution_count": 42,
   "metadata": {
    "collapsed": false
   },
   "outputs": [],
   "source": [
    "d_1_3 = d_2(X1, X3)"
   ]
  },
  {
   "cell_type": "code",
   "execution_count": 43,
   "metadata": {
    "collapsed": false
   },
   "outputs": [],
   "source": [
    "d_2_3 = d_2(X2, X3)"
   ]
  },
  {
   "cell_type": "code",
   "execution_count": 44,
   "metadata": {
    "collapsed": false
   },
   "outputs": [],
   "source": [
    "d_12_3 = d_2(X12, X3)"
   ]
  },
  {
   "cell_type": "code",
   "execution_count": 48,
   "metadata": {
    "collapsed": false
   },
   "outputs": [],
   "source": [
    "n1 = len(X1)\n",
    "n2 = len(X2)\n",
    "d_12_3_hoped = np.sqrt((n1*d_1_3**2 + n2*d_2_3**2)/(n1+n2))"
   ]
  },
  {
   "cell_type": "code",
   "execution_count": 49,
   "metadata": {
    "collapsed": false
   },
   "outputs": [
    {
     "data": {
      "text/plain": [
       "11.174662613125168"
      ]
     },
     "execution_count": 49,
     "metadata": {},
     "output_type": "execute_result"
    }
   ],
   "source": [
    "d_12_3"
   ]
  },
  {
   "cell_type": "code",
   "execution_count": 50,
   "metadata": {
    "collapsed": false
   },
   "outputs": [
    {
     "data": {
      "text/plain": [
       "11.17466261312515"
      ]
     },
     "execution_count": 50,
     "metadata": {},
     "output_type": "execute_result"
    }
   ],
   "source": [
    "d_12_3_hoped"
   ]
  },
  {
   "cell_type": "code",
   "execution_count": null,
   "metadata": {
    "collapsed": true
   },
   "outputs": [],
   "source": []
  }
 ],
 "metadata": {
  "kernelspec": {
   "display_name": "Python 2",
   "language": "python",
   "name": "python2"
  },
  "language_info": {
   "codemirror_mode": {
    "name": "ipython",
    "version": 2
   },
   "file_extension": ".py",
   "mimetype": "text/x-python",
   "name": "python",
   "nbconvert_exporter": "python",
   "pygments_lexer": "ipython2",
   "version": "2.7.10"
  }
 },
 "nbformat": 4,
 "nbformat_minor": 0
}
